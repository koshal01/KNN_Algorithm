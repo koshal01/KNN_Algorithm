{
 "cells": [
  {
   "cell_type": "code",
   "execution_count": 1,
   "id": "equipped-peeing",
   "metadata": {
    "scrolled": true
   },
   "outputs": [
    {
     "name": "stdout",
     "output_type": "stream",
     "text": [
      "fruit_label\tfruit_name\tfruit_subtype\tmass\twidth\theight\tcolor_score\n",
      "1\tapple\tgranny_smith\t192\t8.4\t7.3\t0.55\n",
      "1\tapple\tgranny_smith\t180\t8.0\t6.8\t0.59\n",
      "1\tapple\tgranny_smith\t176\t7.4\t7.2\t0.60\n",
      "2\tmandarin\tmandarin\t86 \t6.2\t4.7\t0.80\n",
      "2\tmandarin\tmandarin\t84 \t6.0\t4.6\t0.79\n",
      "2\tmandarin\tmandarin\t80 \t5.8\t4.3\t0.77\n",
      "2\tmandarin\tmandarin\t80 \t5.9 \t4.3\t0.81\n",
      "2\tmandarin\tmandarin\t76\t5.8\t4.0\t0.81\n",
      "1\tapple\tbraeburn\t178\t7.1\t7.8\t0.92\n",
      "1\tapple\tbraeburn\t172\t7.4\t7.0\t0.89\n",
      "1\tapple\tbraeburn\t166\t6.9\t7.3\t0.93\n",
      "1\tapple\tbraeburn\t172\t7.1\t7.6\t0.92\n",
      "1\tapple\tbraeburn\t154\t7.0\t7.1\t0.88\n",
      "1\tapple\tgolden_delicious\t164\t7.3\t7.7\t0.70\n",
      "1\tapple\tgolden_delicious\t152\t7.6\t7.3\t0.69\n",
      "1\tapple\tgolden_delicious\t156\t7.7\t7.1\t0.69\n",
      "1\tapple\tgolden_delicious\t156\t7.6\t7.5\t0.67\n",
      "1\tapple\tgolden_delicious\t168\t7.5\t7.6\t0.73\n",
      "1\tapple\tcripps_pink\t162\t7.5\t7.1\t0.83\n",
      "1\tapple\tcripps_pink\t162\t7.4\t7.2\t0.85\n",
      "1\tapple\tcripps_pink\t160\t7.5\t7.5\t0.86\n",
      "1\tapple\tcripps_pink\t156\t7.4\t7.4\t0.84\n",
      "1\tapple\tcripps_pink\t140\t7.3\t7.1\t0.87\n",
      "1\tapple\tcripps_pink\t170\t7.6\t7.9\t0.88\n",
      "3\torange\tspanish_jumbo\t342\t9.0\t9.4\t0.75\n",
      "3\torange\tspanish_jumbo\t356\t9.2\t9.2\t0.75\n",
      "3\torange\tspanish_jumbo\t362\t9.6\t9.2\t0.74\n",
      "3\torange\tselected_seconds\t204\t7.5\t9.2\t0.77\n",
      "3\torange\tselected_seconds\t140\t6.7\t7.1\t0.72\n",
      "3\torange\tselected_seconds\t160\t7.0\t7.4\t0.81\n",
      "3\torange\tselected_seconds\t158\t7.1\t7.5\t0.79\n",
      "3\torange\tselected_seconds\t210\t7.8\t8.0\t0.82\n",
      "3\torange\tselected_seconds\t164\t7.2\t7.0\t0.80\n",
      "3\torange\tturkey_navel\t190\t7.5\t8.1\t0.74\n",
      "3\torange\tturkey_navel\t142\t7.6\t7.8\t0.75\n",
      "3\torange\tturkey_navel\t150\t7.1\t7.9\t0.75\n",
      "3\torange\tturkey_navel\t160\t7.1\t7.6\t0.76\n",
      "3\torange\tturkey_navel\t154\t7.3\t7.3\t0.79\n",
      "3\torange\tturkey_navel\t158\t7.2\t7.8\t0.77\n",
      "3\torange\tturkey_navel\t144\t6.8\t7.4\t0.75\n",
      "3\torange\tturkey_navel\t154\t7.1\t7.5\t0.78\n",
      "3\torange\tturkey_navel\t180\t7.6\t8.2\t0.79\n",
      "3\torange\tturkey_navel\t154\t7.2\t7.2\t0.82\n",
      "4\tlemon\tspanish_belsan\t194\t7.2\t10.3\t0.70\n",
      "4\tlemon\tspanish_belsan\t200\t7.3\t10.5\t0.72\n",
      "4\tlemon\tspanish_belsan\t186\t7.2\t9.2\t0.72\n",
      "4\tlemon\tspanish_belsan\t216\t7.3\t10.2\t0.71\n",
      "4\tlemon\tspanish_belsan\t196\t7.3\t9.7\t0.72\n",
      "4\tlemon\tspanish_belsan\t174\t7.3\t10.1\t0.72\n",
      "4\tlemon\tunknown\t132\t5.8\t8.7\t0.73\n",
      "4\tlemon\tunknown\t130\t6.0\t8.2\t0.71\n",
      "4\tlemon\tunknown\t116\t6.0\t7.5\t0.72\n",
      "4\tlemon\tunknown\t118\t5.9\t8.0\t0.72\n",
      "4\tlemon\tunknown\t120\t6.0\t8.4\t0.74\n",
      "4\tlemon\tunknown\t116\t6.1\t8.5\t0.71\n",
      "4\tlemon\tunknown\t116\t6.3\t7.7\t0.72\n",
      "4\tlemon\tunknown\t116\t5.9\t8.1\t0.73\n",
      "4\tlemon\tunknown\t152\t6.5\t8.5\t0.72\n",
      "4\tlemon\tunknown\t118\t6.1\t8.1\t0.70\n"
     ]
    }
   ],
   "source": [
    "import csv\n",
    "with open('fruit_data_with_colors.txt') as csvfile:\n",
    "    lines = csv.reader(csvfile)\n",
    "    for row in lines:\n",
    "        print(', '.join(row))"
   ]
  },
  {
   "cell_type": "markdown",
   "id": "independent-arthur",
   "metadata": {},
   "source": [
    "## KNN"
   ]
  },
  {
   "cell_type": "code",
   "execution_count": 34,
   "id": "cooperative-norman",
   "metadata": {},
   "outputs": [],
   "source": [
    "import csv\n",
    "import random\n",
    "#Loading Dataset\n",
    "def loadDataset(filename, split, trainingSet=[], testSet=[]):\n",
    "    with open(filename, 'r') as csvfile:\n",
    "        lines = csv.reader(csvfile)\n",
    "        dataset = list(lines)\n",
    "        for x in range(len(dataset)):\n",
    "            for y in range(5):\n",
    "                dataset[x][y] = float(dataset[x][y])\n",
    "            if random.random() < split:\n",
    "                trainingSet.append(dataset[x])\n",
    "            else:\n",
    "                testSet.append(dataset[x])"
   ]
  },
  {
   "cell_type": "code",
   "execution_count": 104,
   "id": "convertible-destruction",
   "metadata": {},
   "outputs": [
    {
     "name": "stdout",
     "output_type": "stream",
     "text": [
      "Train: 49\n",
      "Test: 10\n"
     ]
    }
   ],
   "source": [
    "trainingSet=[]\n",
    "testSet=[]\n",
    "loadDataset('fruit.data.txt',0.75, trainingSet, testSet)\n",
    "print('Train: '+ repr(len(trainingSet)))\n",
    "print('Test: '+ repr(len(testSet)))"
   ]
  },
  {
   "cell_type": "code",
   "execution_count": 35,
   "id": "planned-athletics",
   "metadata": {},
   "outputs": [],
   "source": [
    "import math \n",
    "#calculate distance\n",
    "def euclideanDistance(instance1, instance2, length):\n",
    "    distance = 0\n",
    "    for x in range(length):\n",
    "        distance += pow((instance1[x] - instance2[x]),2)\n",
    "    return math.sqrt(distance)"
   ]
  },
  {
   "cell_type": "code",
   "execution_count": 96,
   "id": "molecular-deputy",
   "metadata": {},
   "outputs": [
    {
     "name": "stdout",
     "output_type": "stream",
     "text": [
      "Dsitance: 18.043558407365218\n"
     ]
    }
   ],
   "source": [
    "data1 = [170,7.6,7.9,0.88,1]\n",
    "data2 = [152,7.0,6.8,0.55,2]\n",
    "distance = euclideanDistance(data1, data2, 4)\n",
    "print('Dsitance: ' + repr(distance))"
   ]
  },
  {
   "cell_type": "code",
   "execution_count": 94,
   "id": "stable-crawford",
   "metadata": {},
   "outputs": [],
   "source": [
    "import operator\n",
    "#calculate k nearest neighbor from test instances\n",
    "def getNeighbors(trainingSet, testInstance, k):\n",
    "    distances = []\n",
    "    length = len(testInstance) - 1;\n",
    "    for x in range(len(trainingSet)):\n",
    "        dist = euclideanDistance(testInstance, trainingSet[x], length)\n",
    "        distances.append((trainingSet[x], dist))\n",
    "    distances.sort(key=operator.itemgetter(1))\n",
    "    neighbors = []\n",
    "    for x in range(k):\n",
    "        neighbors.append(distances[x][0])\n",
    "    return neighbors"
   ]
  },
  {
   "cell_type": "code",
   "execution_count": 101,
   "id": "accepting-offset",
   "metadata": {},
   "outputs": [
    {
     "name": "stdout",
     "output_type": "stream",
     "text": [
      "[[172.0, 7.1, 7.6, 0.92, 1.0]]\n"
     ]
    }
   ],
   "source": [
    "trainingSet = [[172.0, 7.1, 7.6, 0.92, 1.0], [174.0, 7.3, 10.1, 0.7, 4.0]]\n",
    "testInstance = [170,7.6,7.9,0.88]\n",
    "k = 1\n",
    "neighbors = getNeighbors(trainingSet, testInstance, k)\n",
    "print(neighbors)"
   ]
  },
  {
   "cell_type": "code",
   "execution_count": 37,
   "id": "military-atlanta",
   "metadata": {},
   "outputs": [],
   "source": [
    "import operator\n",
    "#predict the response from the neighbors\n",
    "def getResponse(neighbors):\n",
    "    classVotes = {}\n",
    "    for x in range(len(neighbors)):\n",
    "        response = neighbors[x][-1]\n",
    "        if response in classVotes:\n",
    "            classVotes[response] += 1;\n",
    "        else:\n",
    "            classVotes[response] = 1;\n",
    "    sortedVotes = sorted(classVotes.items(), key=operator.itemgetter(1), reverse=True)\n",
    "    return sortedVotes[0][0]    "
   ]
  },
  {
   "cell_type": "code",
   "execution_count": 102,
   "id": "smoking-ceremony",
   "metadata": {},
   "outputs": [
    {
     "name": "stdout",
     "output_type": "stream",
     "text": [
      "3.0\n"
     ]
    }
   ],
   "source": [
    "neighbors = [[172.0, 7.1, 7.6, 0.92, 1.0], [170.0, 7.6, 7.9, 0.88, 3.0], [174.0, 7.3, 10.1, 0.7, 3.0]]\n",
    "response = getResponse(neighbors)\n",
    "print(response)"
   ]
  },
  {
   "cell_type": "code",
   "execution_count": 38,
   "id": "hawaiian-foundation",
   "metadata": {},
   "outputs": [],
   "source": [
    "def getAccuracy(testSet, predictions):\n",
    "    count = 0\n",
    "    for x in range (len(testSet)):\n",
    "        if testSet[x][-1] == predictions[x]:\n",
    "            count += 1\n",
    "    return (count/len(testSet)) * 100.0"
   ]
  },
  {
   "cell_type": "code",
   "execution_count": 103,
   "id": "unavailable-collection",
   "metadata": {},
   "outputs": [
    {
     "name": "stdout",
     "output_type": "stream",
     "text": [
      "Train: 49\n",
      "Test: 10\n",
      "predicted=2.0, actual=2.0\n",
      "predicted=1.0, actual=1.0\n",
      "predicted=3.0, actual=1.0\n",
      "predicted=3.0, actual=3.0\n",
      "predicted=3.0, actual=3.0\n",
      "predicted=4.0, actual=3.0\n",
      "predicted=3.0, actual=3.0\n",
      "predicted=1.0, actual=4.0\n",
      "predicted=4.0, actual=4.0\n",
      "predicted=4.0, actual=4.0\n",
      "Accuracy:70.0%\n"
     ]
    }
   ],
   "source": [
    "def main():\n",
    "    trainingSet=[]\n",
    "    testSet=[]\n",
    "    split=0.80\n",
    "    loadDataset('fruit.data.txt',split,trainingSet, testSet)\n",
    "    print('Train: '+ repr(len(trainingSet)))\n",
    "    print('Test: '+ repr(len(testSet)))\n",
    "    \n",
    "    predictions=[]\n",
    "    k=3\n",
    "    for x in range(len(testSet)):\n",
    "        neighbors = getNeighbors(trainingSet, testSet[x], k)\n",
    "        result = getResponse(neighbors)\n",
    "        predictions.append(result)\n",
    "        print('predicted=' + repr(result) + ', actual=' + repr(testSet[x][-1]))\n",
    "    accuracy = getAccuracy(testSet, predictions)\n",
    "    print('Accuracy:' + repr(accuracy) + '%')\n",
    "    \n",
    "main()    "
   ]
  },
  {
   "cell_type": "markdown",
   "id": "municipal-basement",
   "metadata": {},
   "source": [
    "## Data Visualization"
   ]
  },
  {
   "cell_type": "code",
   "execution_count": 1,
   "id": "floating-rebel",
   "metadata": {},
   "outputs": [],
   "source": [
    "import matplotlib.pyplot as plt\n",
    "import seaborn as sns\n",
    "%matplotlib inline\n",
    "import pandas as pd\n",
    "import numpy as np"
   ]
  },
  {
   "cell_type": "code",
   "execution_count": 15,
   "id": "aerial-biodiversity",
   "metadata": {},
   "outputs": [],
   "source": [
    "fruits=pd.read_csv('1.data.txt', names=['Id','Mass', 'Width', 'Height', 'color_score','Class'])"
   ]
  },
  {
   "cell_type": "code",
   "execution_count": 4,
   "id": "opposed-administrator",
   "metadata": {},
   "outputs": [
    {
     "data": {
      "text/html": [
       "<div>\n",
       "<style scoped>\n",
       "    .dataframe tbody tr th:only-of-type {\n",
       "        vertical-align: middle;\n",
       "    }\n",
       "\n",
       "    .dataframe tbody tr th {\n",
       "        vertical-align: top;\n",
       "    }\n",
       "\n",
       "    .dataframe thead th {\n",
       "        text-align: right;\n",
       "    }\n",
       "</style>\n",
       "<table border=\"1\" class=\"dataframe\">\n",
       "  <thead>\n",
       "    <tr style=\"text-align: right;\">\n",
       "      <th></th>\n",
       "      <th>Mass</th>\n",
       "      <th>Width</th>\n",
       "      <th>Height</th>\n",
       "      <th>color_score</th>\n",
       "      <th>Class</th>\n",
       "    </tr>\n",
       "  </thead>\n",
       "  <tbody>\n",
       "    <tr>\n",
       "      <th>count</th>\n",
       "      <td>59.000000</td>\n",
       "      <td>59.000000</td>\n",
       "      <td>59.000000</td>\n",
       "      <td>59.000000</td>\n",
       "      <td>59.000000</td>\n",
       "    </tr>\n",
       "    <tr>\n",
       "      <th>mean</th>\n",
       "      <td>163.118644</td>\n",
       "      <td>7.105085</td>\n",
       "      <td>7.693220</td>\n",
       "      <td>0.762034</td>\n",
       "      <td>2.542373</td>\n",
       "    </tr>\n",
       "    <tr>\n",
       "      <th>std</th>\n",
       "      <td>55.018832</td>\n",
       "      <td>0.816938</td>\n",
       "      <td>1.361017</td>\n",
       "      <td>0.077455</td>\n",
       "      <td>1.208048</td>\n",
       "    </tr>\n",
       "    <tr>\n",
       "      <th>min</th>\n",
       "      <td>76.000000</td>\n",
       "      <td>5.800000</td>\n",
       "      <td>4.000000</td>\n",
       "      <td>0.550000</td>\n",
       "      <td>1.000000</td>\n",
       "    </tr>\n",
       "    <tr>\n",
       "      <th>25%</th>\n",
       "      <td>140.000000</td>\n",
       "      <td>6.600000</td>\n",
       "      <td>7.200000</td>\n",
       "      <td>0.720000</td>\n",
       "      <td>1.000000</td>\n",
       "    </tr>\n",
       "    <tr>\n",
       "      <th>50%</th>\n",
       "      <td>158.000000</td>\n",
       "      <td>7.200000</td>\n",
       "      <td>7.600000</td>\n",
       "      <td>0.750000</td>\n",
       "      <td>3.000000</td>\n",
       "    </tr>\n",
       "    <tr>\n",
       "      <th>75%</th>\n",
       "      <td>177.000000</td>\n",
       "      <td>7.500000</td>\n",
       "      <td>8.200000</td>\n",
       "      <td>0.810000</td>\n",
       "      <td>4.000000</td>\n",
       "    </tr>\n",
       "    <tr>\n",
       "      <th>max</th>\n",
       "      <td>362.000000</td>\n",
       "      <td>9.600000</td>\n",
       "      <td>10.500000</td>\n",
       "      <td>0.930000</td>\n",
       "      <td>4.000000</td>\n",
       "    </tr>\n",
       "  </tbody>\n",
       "</table>\n",
       "</div>"
      ],
      "text/plain": [
       "             Mass      Width     Height  color_score      Class\n",
       "count   59.000000  59.000000  59.000000    59.000000  59.000000\n",
       "mean   163.118644   7.105085   7.693220     0.762034   2.542373\n",
       "std     55.018832   0.816938   1.361017     0.077455   1.208048\n",
       "min     76.000000   5.800000   4.000000     0.550000   1.000000\n",
       "25%    140.000000   6.600000   7.200000     0.720000   1.000000\n",
       "50%    158.000000   7.200000   7.600000     0.750000   3.000000\n",
       "75%    177.000000   7.500000   8.200000     0.810000   4.000000\n",
       "max    362.000000   9.600000  10.500000     0.930000   4.000000"
      ]
     },
     "execution_count": 4,
     "metadata": {},
     "output_type": "execute_result"
    }
   ],
   "source": [
    "fruits.describe()"
   ]
  },
  {
   "cell_type": "code",
   "execution_count": 103,
   "id": "knowing-optimization",
   "metadata": {},
   "outputs": [
    {
     "data": {
      "text/html": [
       "<div>\n",
       "<style scoped>\n",
       "    .dataframe tbody tr th:only-of-type {\n",
       "        vertical-align: middle;\n",
       "    }\n",
       "\n",
       "    .dataframe tbody tr th {\n",
       "        vertical-align: top;\n",
       "    }\n",
       "\n",
       "    .dataframe thead th {\n",
       "        text-align: right;\n",
       "    }\n",
       "</style>\n",
       "<table border=\"1\" class=\"dataframe\">\n",
       "  <thead>\n",
       "    <tr style=\"text-align: right;\">\n",
       "      <th></th>\n",
       "      <th>Mass</th>\n",
       "      <th>Width</th>\n",
       "      <th>Height</th>\n",
       "      <th>color_score</th>\n",
       "      <th>Class</th>\n",
       "    </tr>\n",
       "  </thead>\n",
       "  <tbody>\n",
       "    <tr>\n",
       "      <th>0</th>\n",
       "      <td>192</td>\n",
       "      <td>8.4</td>\n",
       "      <td>7.3</td>\n",
       "      <td>0.55</td>\n",
       "      <td>1</td>\n",
       "    </tr>\n",
       "    <tr>\n",
       "      <th>1</th>\n",
       "      <td>180</td>\n",
       "      <td>8.0</td>\n",
       "      <td>6.8</td>\n",
       "      <td>0.59</td>\n",
       "      <td>1</td>\n",
       "    </tr>\n",
       "    <tr>\n",
       "      <th>2</th>\n",
       "      <td>176</td>\n",
       "      <td>7.4</td>\n",
       "      <td>7.2</td>\n",
       "      <td>0.60</td>\n",
       "      <td>2</td>\n",
       "    </tr>\n",
       "    <tr>\n",
       "      <th>3</th>\n",
       "      <td>86</td>\n",
       "      <td>6.2</td>\n",
       "      <td>4.7</td>\n",
       "      <td>0.80</td>\n",
       "      <td>2</td>\n",
       "    </tr>\n",
       "    <tr>\n",
       "      <th>4</th>\n",
       "      <td>84</td>\n",
       "      <td>6.0</td>\n",
       "      <td>4.6</td>\n",
       "      <td>0.79</td>\n",
       "      <td>2</td>\n",
       "    </tr>\n",
       "  </tbody>\n",
       "</table>\n",
       "</div>"
      ],
      "text/plain": [
       "   Mass  Width  Height  color_score  Class\n",
       "0   192    8.4     7.3         0.55      1\n",
       "1   180    8.0     6.8         0.59      1\n",
       "2   176    7.4     7.2         0.60      2\n",
       "3    86    6.2     4.7         0.80      2\n",
       "4    84    6.0     4.6         0.79      2"
      ]
     },
     "execution_count": 103,
     "metadata": {},
     "output_type": "execute_result"
    }
   ],
   "source": [
    "fruits.head()"
   ]
  },
  {
   "cell_type": "code",
   "execution_count": 68,
   "id": "lesbian-onion",
   "metadata": {},
   "outputs": [
    {
     "data": {
      "text/plain": [
       "1    19\n",
       "3    19\n",
       "4    16\n",
       "2     5\n",
       "Name: Class, dtype: int64"
      ]
     },
     "execution_count": 68,
     "metadata": {},
     "output_type": "execute_result"
    }
   ],
   "source": [
    "fruits['Class'].value_counts()"
   ]
  },
  {
   "cell_type": "code",
   "execution_count": 66,
   "id": "concrete-killer",
   "metadata": {},
   "outputs": [
    {
     "data": {
      "text/plain": [
       "<matplotlib.collections.PathCollection at 0x1c50432d340>"
      ]
     },
     "execution_count": 66,
     "metadata": {},
     "output_type": "execute_result"
    },
    {
     "data": {
      "image/png": "[encoded data removed]",
      "text/plain": [
       "<Figure size 432x288 with 1 Axes>"
      ]
     },
     "metadata": {
      "needs_background": "light"
     },
     "output_type": "display_data"
    }
   ],
   "source": [
    "plt.scatter(fruits['Width'],fruits['Height'])"
   ]
  },
  {
   "cell_type": "code",
   "execution_count": 67,
   "id": "sublime-inside",
   "metadata": {},
   "outputs": [
    {
     "data": {
      "text/plain": [
       "<matplotlib.collections.PathCollection at 0x1c4dee4f160>"
      ]
     },
     "execution_count": 67,
     "metadata": {},
     "output_type": "execute_result"
    },
    {
     "data": {
      "image/png": "[encoded data removed]",
      "text/plain": [
       "<Figure size 432x288 with 1 Axes>"
      ]
     },
     "metadata": {
      "needs_background": "light"
     },
     "output_type": "display_data"
    }
   ],
   "source": [
    "plt.scatter(fruits['Mass'],fruits['color_score'])"
   ]
  },
  {
   "cell_type": "code",
   "execution_count": 107,
   "id": "random-cruise",
   "metadata": {},
   "outputs": [
    {
     "data": {
      "text/plain": [
       "<matplotlib.legend.Legend at 0x1b2b849aa30>"
      ]
     },
     "execution_count": 107,
     "metadata": {},
     "output_type": "execute_result"
    },
    {
     "data": {
      "image/png": "[encoded data removed]",
      "text/plain": [
       "<Figure size 432x288 with 1 Axes>"
      ]
     },
     "metadata": {
      "needs_background": "light"
     },
     "output_type": "display_data"
    }
   ],
   "source": [
    "columns = fruits.columns.drop(['Class'])\n",
    "\n",
    "x_data = range(0, fruits.shape[0])\n",
    "\n",
    "fig, ax = plt.subplots()\n",
    "\n",
    "for column in columns:\n",
    "    ax.plot(x_data, fruits[column], label=column)\n",
    "\n",
    "ax.set_title('Fruits Dataset')\n",
    "ax.legend()"
   ]
  }
 ],
 "metadata": {
  "kernelspec": {
   "display_name": "Python 3",
   "language": "python",
   "name": "python3"
  },
  "language_info": {
   "codemirror_mode": {
    "name": "ipython",
    "version": 3
   },
   "file_extension": ".py",
   "mimetype": "text/x-python",
   "name": "python",
   "nbconvert_exporter": "python",
   "pygments_lexer": "ipython3",
   "version": "3.9.2"
  }
 },
 "nbformat": 4,
 "nbformat_minor": 5
}
